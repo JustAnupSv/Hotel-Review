{
 "cells": [
  {
   "cell_type": "code",
   "execution_count": 1,
   "id": "33a95aab",
   "metadata": {},
   "outputs": [],
   "source": [
    "# import pandas and pickle\n",
    "import pandas as pd\n",
    "import pickle"
   ]
  },
  {
   "cell_type": "code",
   "execution_count": 2,
   "id": "947856ac",
   "metadata": {},
   "outputs": [
    {
     "data": {
      "text/html": [
       "<div>\n",
       "<style scoped>\n",
       "    .dataframe tbody tr th:only-of-type {\n",
       "        vertical-align: middle;\n",
       "    }\n",
       "\n",
       "    .dataframe tbody tr th {\n",
       "        vertical-align: top;\n",
       "    }\n",
       "\n",
       "    .dataframe thead th {\n",
       "        text-align: right;\n",
       "    }\n",
       "</style>\n",
       "<table border=\"1\" class=\"dataframe\">\n",
       "  <thead>\n",
       "    <tr style=\"text-align: right;\">\n",
       "      <th></th>\n",
       "      <th>index</th>\n",
       "      <th>Review</th>\n",
       "      <th>Rating</th>\n",
       "    </tr>\n",
       "  </thead>\n",
       "  <tbody>\n",
       "    <tr>\n",
       "      <th>0</th>\n",
       "      <td>1</td>\n",
       "      <td>ok nothing special charge diamond member hilto...</td>\n",
       "      <td>Neg</td>\n",
       "    </tr>\n",
       "    <tr>\n",
       "      <th>1</th>\n",
       "      <td>3</td>\n",
       "      <td>unique, great stay, wonderful time hotel monac...</td>\n",
       "      <td>Pos</td>\n",
       "    </tr>\n",
       "    <tr>\n",
       "      <th>2</th>\n",
       "      <td>4</td>\n",
       "      <td>great stay great stay, went seahawk game aweso...</td>\n",
       "      <td>Pos</td>\n",
       "    </tr>\n",
       "    <tr>\n",
       "      <th>3</th>\n",
       "      <td>5</td>\n",
       "      <td>love monaco staff husband stayed hotel crazy w...</td>\n",
       "      <td>Pos</td>\n",
       "    </tr>\n",
       "    <tr>\n",
       "      <th>4</th>\n",
       "      <td>6</td>\n",
       "      <td>cozy stay rainy city, husband spent 7 nights m...</td>\n",
       "      <td>Pos</td>\n",
       "    </tr>\n",
       "  </tbody>\n",
       "</table>\n",
       "</div>"
      ],
      "text/plain": [
       "   index                                             Review Rating\n",
       "0      1  ok nothing special charge diamond member hilto...    Neg\n",
       "1      3  unique, great stay, wonderful time hotel monac...    Pos\n",
       "2      4  great stay great stay, went seahawk game aweso...    Pos\n",
       "3      5  love monaco staff husband stayed hotel crazy w...    Pos\n",
       "4      6  cozy stay rainy city, husband spent 7 nights m...    Pos"
      ]
     },
     "execution_count": 2,
     "metadata": {},
     "output_type": "execute_result"
    }
   ],
   "source": [
    "# read the csv review dataset\n",
    "trip = pd.read_csv(\"C:/Users/anupsv/Untitled Folder/hotel_reviews.csv\")\n",
    "# Let's create a new data frame\n",
    " \n",
    "trip = trip[(trip['Rating']==5)|(trip['Rating']==2)|(trip['Rating']==1)][['Review','Rating']]\n",
    "\n",
    "# Lets modify the Rating column\n",
    "trip['Rating'] = trip['Rating'].apply(lambda rating: 'Pos' if rating==5 else 'Neg')\n",
    "# reseting the index because after removing some rows, the index gets crowded\n",
    "trip.reset_index(inplace=True)\n",
    "trip.head()"
   ]
  },
  {
   "cell_type": "code",
   "execution_count": 3,
   "id": "94992989",
   "metadata": {},
   "outputs": [
    {
     "data": {
      "text/plain": [
       "Pos    9054\n",
       "Neg    3214\n",
       "Name: Rating, dtype: int64"
      ]
     },
     "execution_count": 3,
     "metadata": {},
     "output_type": "execute_result"
    }
   ],
   "source": [
    "trip['Rating'].value_counts()"
   ]
  },
  {
   "cell_type": "code",
   "execution_count": 4,
   "id": "8a13e6a0",
   "metadata": {},
   "outputs": [],
   "source": [
    "#Data cleaning and preprocessing\n",
    "import re\n",
    "import nltk\n",
    "from nltk.corpus import stopwords\n",
    "from nltk.stem.porter import PorterStemmer\n",
    "from nltk.stem import WordNetLemmatizer"
   ]
  },
  {
   "cell_type": "code",
   "execution_count": 5,
   "id": "bdf9413e",
   "metadata": {},
   "outputs": [],
   "source": [
    "# the data preprocessing takes time\n",
    "# clean data\n",
    "clean_data = pd.read_csv('clean_data.csv')\n",
    "corpus_clean_data = clean_data.to_numpy().flatten()\n",
    "corpus_clean_data_usable = corpus_clean_data.tolist()"
   ]
  },
  {
   "cell_type": "code",
   "execution_count": 6,
   "id": "18b91f14",
   "metadata": {},
   "outputs": [],
   "source": [
    "from sklearn.feature_extraction.text import CountVectorizer\n",
    "cv = CountVectorizer()\n",
    "X = cv.fit_transform(corpus_clean_data_usable)"
   ]
  },
  {
   "cell_type": "code",
   "execution_count": 7,
   "id": "6f03063d",
   "metadata": {},
   "outputs": [
    {
     "data": {
      "text/plain": [
       "(12268, 34549)"
      ]
     },
     "execution_count": 7,
     "metadata": {},
     "output_type": "execute_result"
    }
   ],
   "source": [
    "X.shape"
   ]
  },
  {
   "cell_type": "code",
   "execution_count": 8,
   "id": "02b13d39",
   "metadata": {},
   "outputs": [],
   "source": [
    "y = pd.get_dummies(trip['Rating'])\n",
    "y = y.iloc[:,1].values"
   ]
  },
  {
   "cell_type": "code",
   "execution_count": 9,
   "id": "666b5ea1",
   "metadata": {},
   "outputs": [],
   "source": [
    "#train test split\n",
    "from sklearn.model_selection import train_test_split\n",
    "X_train, X_test,y_train,y_test = train_test_split(X,y,test_size=0.20,random_state=3)"
   ]
  },
  {
   "cell_type": "code",
   "execution_count": 10,
   "id": "75babe03",
   "metadata": {},
   "outputs": [],
   "source": [
    "#training model using Naive bayes classifier\n",
    "\n",
    "from sklearn.naive_bayes import MultinomialNB\n",
    "spam_detect_model = MultinomialNB().fit(X_train,y_train)\n",
    "# for the accuracy\n",
    "spam_detect_model.score(X_test,y_test)\n",
    "\n",
    "y_pred = spam_detect_model.predict(X_test)"
   ]
  },
  {
   "cell_type": "code",
   "execution_count": 13,
   "id": "76e7d681",
   "metadata": {},
   "outputs": [
    {
     "data": {
      "text/plain": [
       "array([[ 575,   68],\n",
       "       [  45, 1766]], dtype=int64)"
      ]
     },
     "execution_count": 13,
     "metadata": {},
     "output_type": "execute_result"
    }
   ],
   "source": [
    "from sklearn.metrics import confusion_matrix\n",
    "confusion_m = confusion_matrix(y_test,y_pred)\n",
    "\n",
    "\n",
    "confusion_m"
   ]
  },
  {
   "cell_type": "code",
   "execution_count": 14,
   "id": "f0fa5aba",
   "metadata": {},
   "outputs": [
    {
     "data": {
      "text/plain": [
       "0.9539527302363489"
      ]
     },
     "execution_count": 14,
     "metadata": {},
     "output_type": "execute_result"
    }
   ],
   "source": [
    "#checking accuracy score\n",
    "\n",
    "from sklearn.metrics import accuracy_score\n",
    "accuracy = accuracy_score(y_test,y_pred)\n",
    "\n",
    "accuracy"
   ]
  },
  {
   "cell_type": "code",
   "execution_count": 15,
   "id": "c752acff",
   "metadata": {},
   "outputs": [
    {
     "data": {
      "text/plain": [
       "0.9689986282578876"
      ]
     },
     "execution_count": 15,
     "metadata": {},
     "output_type": "execute_result"
    }
   ],
   "source": [
    "from sklearn.metrics import precision_score\n",
    "precision_score(y_test,y_pred)\n",
    "from sklearn.metrics import recall_score\n",
    "recall_score(y_test,y_pred)\n",
    "from sklearn.metrics import fbeta_score\n",
    "fbeta_score(y_test,y_pred,beta=1)"
   ]
  },
  {
   "cell_type": "code",
   "execution_count": 16,
   "id": "07595c95",
   "metadata": {},
   "outputs": [
    {
     "name": "stdout",
     "output_type": "stream",
     "text": [
      "Positive\n"
     ]
    }
   ],
   "source": [
    "\n",
    "# Checking the training model with custom input data\n",
    "positive_message = \"the hotel was nice and clean\"\n",
    "negative_message = \"the hotel was bad and the staff was rude\"\n",
    "data = [positive_message]\n",
    "vect = cv.transform(data).toarray()\n",
    "my_prediction = spam_detect_model.predict(vect)\n",
    "my_prediction_prob = spam_detect_model.predict_proba(vect)\n",
    "if my_prediction==1:\n",
    "    print(\"Positive\")\n",
    "else:\n",
    "    print(\"Negative\")"
   ]
  },
  {
   "cell_type": "code",
   "execution_count": 18,
   "id": "5f22f104",
   "metadata": {},
   "outputs": [],
   "source": [
    "#pickle.dump(cv, open('tranform.pkl', 'wb'))\n",
    "#filename = 'nlp_model.pkl'\n",
    "#pickle.dump(spam_detect_model, open(filename, 'wb'))"
   ]
  },
  {
   "cell_type": "code",
   "execution_count": null,
   "id": "ab516b7e",
   "metadata": {},
   "outputs": [],
   "source": []
  }
 ],
 "metadata": {
  "kernelspec": {
   "display_name": "Python 3 (ipykernel)",
   "language": "python",
   "name": "python3"
  },
  "language_info": {
   "codemirror_mode": {
    "name": "ipython",
    "version": 3
   },
   "file_extension": ".py",
   "mimetype": "text/x-python",
   "name": "python",
   "nbconvert_exporter": "python",
   "pygments_lexer": "ipython3",
   "version": "3.9.12"
  }
 },
 "nbformat": 4,
 "nbformat_minor": 5
}
